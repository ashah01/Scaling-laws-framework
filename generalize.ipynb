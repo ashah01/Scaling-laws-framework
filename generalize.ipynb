{
 "cells": [
  {
   "cell_type": "code",
   "execution_count": 6,
   "metadata": {},
   "outputs": [
    {
     "name": "stdout",
     "output_type": "stream",
     "text": [
      "Files already downloaded and verified\n",
      "Files already downloaded and verified\n"
     ]
    }
   ],
   "source": [
    "import torch\n",
    "import torch\n",
    "import torch.nn as nn\n",
    "import torchvision\n",
    "import torchvision.transforms as transforms\n",
    "import torch.optim as optim\n",
    "import torch.utils.data\n",
    "from matplotlib import pyplot as plt\n",
    "from model import ResNet\n",
    "\n",
    "device = torch.device(\"cuda\" if torch.cuda.is_available() else \"cpu\")\n",
    "\n",
    "transform = transforms.Compose(\n",
    "    [\n",
    "        transforms.RandomCrop(\n",
    "            32, padding=4\n",
    "        ),  # Random crop of size 32x32 with padding of 4 pixels\n",
    "        transforms.RandomHorizontalFlip(),  # Randomly flip the image horizontally\n",
    "        transforms.ToTensor(),  # Convert the image to a tensor\n",
    "        transforms.Normalize((0.5, 0.5, 0.5), (0.5, 0.5, 0.5))\n",
    "    ]\n",
    ")\n",
    "\n",
    "trainset = torchvision.datasets.CIFAR10(\n",
    "    root=\"./data/CIFAR10\", train=True, download=True, transform=transform\n",
    ")\n",
    "\n",
    "testset = torchvision.datasets.CIFAR10(\n",
    "    root=\"./data/CIFAR10\", train=False, download=True, transform=transform\n",
    ")"
   ]
  },
  {
   "cell_type": "code",
   "execution_count": 19,
   "metadata": {},
   "outputs": [
    {
     "data": {
      "image/png": "[encoded data removed]",
      "text/plain": [
       "<Figure size 640x480 with 1 Axes>"
      ]
     },
     "metadata": {},
     "output_type": "display_data"
    }
   ],
   "source": [
    "def main(config):\n",
    "    torch.manual_seed(config['seed'])\n",
    "\n",
    "    trainloader = torch.utils.data.DataLoader(\n",
    "        trainset, batch_size=config['batch_size'], shuffle=True\n",
    "    )\n",
    "    testloader = torch.utils.data.DataLoader(\n",
    "        testset, batch_size=config['batch_size'], shuffle=False\n",
    "    )\n",
    "\n",
    "    net = ResNet(config['hidden_dim'], config['depth'])\n",
    "    net = net.to(device)\n",
    "    criterion = nn.CrossEntropyLoss()\n",
    "    optimizer = optim.AdamW(\n",
    "        net.parameters(), lr=config['lr'], weight_decay=config['wd']\n",
    "    )\n",
    "    scheduler = optim.lr_scheduler.LinearLR(\n",
    "        optimizer,\n",
    "        start_factor=1,\n",
    "        end_factor=0,\n",
    "        total_iters=config['epochs'],\n",
    "    )\n",
    "    inputs, labels = next(iter(trainloader))\n",
    "    losses = []\n",
    "    for epoch in range(config['epochs']):\n",
    "\n",
    "        optimizer.zero_grad()\n",
    "\n",
    "        outputs = net(inputs)\n",
    "        loss = criterion(outputs, labels)\n",
    "        losses.append(loss.item())\n",
    "        loss.backward()\n",
    "        torch.nn.utils.clip_grad_norm_(net.parameters(), 1.0)\n",
    "        optimizer.step()\n",
    "        scheduler.step()\n",
    "    plt.plot(losses)\n",
    "\n",
    "# Define the hyperparameter lists\n",
    "hyperparameter_lists = {\n",
    "    'epochs': 50,\n",
    "    'batch_size': 50,\n",
    "    'lr': 0.01,\n",
    "    'wd': 5e-4,\n",
    "    'hidden_dim': 16,\n",
    "    'dropout': 0,\n",
    "    'depth': 9,\n",
    "    'seed': 10\n",
    "}\n",
    "\n",
    "main(hyperparameter_lists)\n"
   ]
  },
  {
   "cell_type": "code",
   "execution_count": null,
   "metadata": {},
   "outputs": [],
   "source": []
  }
 ],
 "metadata": {
  "kernelspec": {
   "display_name": "mnist-scaling-laws",
   "language": "python",
   "name": "python3"
  },
  "language_info": {
   "codemirror_mode": {
    "name": "ipython",
    "version": 3
   },
   "file_extension": ".py",
   "mimetype": "text/x-python",
   "name": "python",
   "nbconvert_exporter": "python",
   "pygments_lexer": "ipython3",
   "version": "3.9.16"
  },
  "orig_nbformat": 4
 },
 "nbformat": 4,
 "nbformat_minor": 2
}
