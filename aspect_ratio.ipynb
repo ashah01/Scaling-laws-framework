{
 "cells": [
  {
   "cell_type": "code",
   "execution_count": 62,
   "metadata": {},
   "outputs": [],
   "source": [
    "from models.resnet import ResNet\n",
    "import matplotlib.pyplot as plt\n",
    "from tqdm import tqdm"
   ]
  },
  {
   "cell_type": "code",
   "execution_count": 77,
   "metadata": {},
   "outputs": [],
   "source": [
    "# 1m combos\n",
    "combos_1m = [ # d_model / n_layer\n",
    "    (8, 41), # 0.2\n",
    "    (10, 27), # 0.37\n",
    "    (12, 19), # 0.63\n",
    "    (14, 14), # 1\n",
    "    (24, 5), # 4.8\n",
    "    (27, 4), # 6.75\n",
    "    (31, 3), # 10.33\n",
    "    (39, 2), # 19.5\n",
    "    (58, 1), # 58\n",
    "]"
   ]
  },
  {
   "cell_type": "code",
   "execution_count": null,
   "metadata": {},
   "outputs": [],
   "source": [
    "# 500k combos\n",
    "combos_500k = [\n",
    "    (41, 1), # 41\n",
    "    (27, 2), # 13.5\n",
    "    (22, 3), # 7.33\n",
    "    (19, 4), # 4.75\n",
    "    (11, 11), # 1\n",
    "    (9, 14), # 0.64\n",
    "    (8, 21), # 0.38\n",
    "    (5, 53), # 0.09\n",
    "\n",
    "]"
   ]
  }
 ],
 "metadata": {
  "kernelspec": {
   "display_name": "mnist-scaling-laws",
   "language": "python",
   "name": "python3"
  },
  "language_info": {
   "codemirror_mode": {
    "name": "ipython",
    "version": 3
   },
   "file_extension": ".py",
   "mimetype": "text/x-python",
   "name": "python",
   "nbconvert_exporter": "python",
   "pygments_lexer": "ipython3",
   "version": "3.9.16"
  },
  "orig_nbformat": 4
 },
 "nbformat": 4,
 "nbformat_minor": 2
}
